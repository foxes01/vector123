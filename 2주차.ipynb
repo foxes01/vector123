{
  "nbformat": 4,
  "nbformat_minor": 0,
  "metadata": {
    "colab": {
      "provenance": [],
      "authorship_tag": "ABX9TyNG+RVAM3kCdQeJbziVqYHn",
      "include_colab_link": true
    },
    "kernelspec": {
      "name": "python3",
      "display_name": "Python 3"
    },
    "language_info": {
      "name": "python"
    }
  },
  "cells": [
    {
      "cell_type": "markdown",
      "metadata": {
        "id": "view-in-github",
        "colab_type": "text"
      },
      "source": [
        "<a href=\"https://colab.research.google.com/github/foxes01/vector123/blob/main/2%EC%A3%BC%EC%B0%A8.ipynb\" target=\"_parent\"><img src=\"https://colab.research.google.com/assets/colab-badge.svg\" alt=\"Open In Colab\"/></a>"
      ]
    },
    {
      "cell_type": "code",
      "execution_count": null,
      "metadata": {
        "id": "ow4z51Azq1fB"
      },
      "outputs": [],
      "source": [
        "from tensorflow.keras.models import sequential\n",
        "from tensorflow.keras.layers import Dense\n",
        "import numpy as np\n",
        "\n",
        "Data_set = np.loadtxt('https://raw.glthubusercontent.com/dhshinEddie/DeepKMOU/main/V3/ThoraricSurgery3.csv',delimiter=\",\")\n",
        "\n",
        "model = Sequential()\n",
        "model.add(Dense(30, input_dim=16, activation='relu'))\n",
        "model.add(Dense(1,activation='sigmoid'))\n",
        "\n",
        "model.compile(loss=binary_crossentropy, optimizer='adam', metrics=['accuracy'])\n",
        "history = model.fit(X, y, epoch=5, batch_size=16)"
      ]
    }
  ]
}